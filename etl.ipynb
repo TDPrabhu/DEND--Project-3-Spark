{
 "cells": [
  {
   "cell_type": "code",
   "execution_count": 1,
   "metadata": {},
   "outputs": [],
   "source": [
    "import configparser\n",
    "import os\n",
    "from pyspark.sql import SparkSession\n",
    "from pyspark.sql.functions import udf, col\n",
    "from pyspark.sql.functions import year, month, dayofmonth, hour, weekofyear, date_format\n",
    "from pyspark.sql.types import TimestampType\n",
    "import pyspark.sql.functions as F\n",
    "import datetime"
   ]
  },
  {
   "cell_type": "code",
   "execution_count": 2,
   "metadata": {},
   "outputs": [],
   "source": [
    "config = configparser.ConfigParser()"
   ]
  },
  {
   "cell_type": "code",
   "execution_count": 3,
   "metadata": {},
   "outputs": [
    {
     "data": {
      "text/plain": [
       "['dl.cfg']"
      ]
     },
     "execution_count": 3,
     "metadata": {},
     "output_type": "execute_result"
    }
   ],
   "source": [
    "config.read('dl.cfg')"
   ]
  },
  {
   "cell_type": "code",
   "execution_count": 4,
   "metadata": {},
   "outputs": [],
   "source": [
    "os.environ['AWS_ACCESS_KEY_ID']=config['AWS']['AWS_ACCESS_KEY_ID']\n",
    "os.environ['AWS_SECRET_ACCESS_KEY'] =config['AWS']['AWS_SECRET_ACCESS_KEY']"
   ]
  },
  {
   "cell_type": "code",
   "execution_count": 5,
   "metadata": {},
   "outputs": [],
   "source": [
    "spark = SparkSession \\\n",
    "        .builder \\\n",
    "        .config(\"spark.jars.packages\", \"org.apache.hadoop:hadoop-aws:2.7.0\") \\\n",
    "        .getOrCreate()"
   ]
  },
  {
   "cell_type": "code",
   "execution_count": 31,
   "metadata": {},
   "outputs": [],
   "source": [
    "input_data = \"s3a://udacity-dend\""
   ]
  },
  {
   "cell_type": "code",
   "execution_count": 32,
   "metadata": {},
   "outputs": [],
   "source": [
    "song_data = os.path.join(input_data, \"song_data/*/*/*/*.json\")"
   ]
  },
  {
   "cell_type": "code",
   "execution_count": 14,
   "metadata": {},
   "outputs": [
    {
     "name": "stdout",
     "output_type": "stream",
     "text": [
      "root\n",
      " |-- artist_id: string (nullable = true)\n",
      " |-- artist_latitude: double (nullable = true)\n",
      " |-- artist_location: string (nullable = true)\n",
      " |-- artist_longitude: double (nullable = true)\n",
      " |-- artist_name: string (nullable = true)\n",
      " |-- duration: double (nullable = true)\n",
      " |-- num_songs: long (nullable = true)\n",
      " |-- song_id: string (nullable = true)\n",
      " |-- title: string (nullable = true)\n",
      " |-- year: long (nullable = true)\n",
      "\n"
     ]
    }
   ],
   "source": [
    "song_df.printSchema()"
   ]
  },
  {
   "cell_type": "code",
   "execution_count": 15,
   "metadata": {},
   "outputs": [
    {
     "name": "stdout",
     "output_type": "stream",
     "text": [
      "Extract columns to create song table\n"
     ]
    }
   ],
   "source": [
    "print('Extract columns to create song table')\n",
    "artist_id = \"artist_id\"\n",
    "artist_latitude = \"artist_latitude\"\n",
    "artist_location = \"artist_location\"\n",
    "artist_longitude = \"artist_longitude\"\n",
    "artist_name = \"artist_name\"\n",
    "duration = \"duration\"\n",
    "num_songs = \"num_songs\"\n",
    "song_id = \"song_id\"\n",
    "title = \"title\"\n",
    "year = \"year\""
   ]
  },
  {
   "cell_type": "code",
   "execution_count": null,
   "metadata": {},
   "outputs": [],
   "source": [
    "print('Songs table: ')\n",
    "song_table = song_df.select(song_id, title, artist_id, year, duration)\n",
    "print(song_table.toPandas())"
   ]
  },
  {
   "cell_type": "code",
   "execution_count": 11,
   "metadata": {},
   "outputs": [
    {
     "name": "stdout",
     "output_type": "stream",
     "text": [
      "DataFrame[song_id: string, title: string, artist_id: string, year: bigint, duration: double]\n"
     ]
    }
   ],
   "source": [
    "print (song_table)"
   ]
  },
  {
   "cell_type": "code",
   "execution_count": null,
   "metadata": {},
   "outputs": [],
   "source": [
    "#create temp view\n",
    "song_df_table = song_table.createOrReplaceTempView(\"song_df_table\")"
   ]
  },
  {
   "cell_type": "code",
   "execution_count": null,
   "metadata": {},
   "outputs": [],
   "source": [
    "#create sql query to partition on year and artist_id\n",
    "song_table = spark.sql(\n",
    "                        \"\"\"SELECT DISTINCT song_id, title, artist_id, year, duration\n",
    "                        FROM song_df_table \n",
    "                        \"\"\"\n",
    "                      )"
   ]
  },
  {
   "cell_type": "code",
   "execution_count": 13,
   "metadata": {},
   "outputs": [
    {
     "name": "stdout",
     "output_type": "stream",
     "text": [
      "+------------------+--------------------+------------------+----+----------+\n",
      "|           song_id|               title|         artist_id|year|  duration|\n",
      "+------------------+--------------------+------------------+----+----------+\n",
      "|SOBTCUI12A8AE48B70|Faust: Ballet Mus...|ARSUVLW12454A4C8B8|   0|  94.56281|\n",
      "|SOXRPUH12AB017F769|Exodus: Part I: M...|ARXQC081187FB4AD42|   0|1047.71873|\n",
      "|SOVNKJI12A8C13CB0D|Take It To Da Hou...|ARWUNH81187FB4A3E0|2001| 227.10812|\n",
      "|SOAFBCP12A8C13CC7D|King Of Scurf (20...|ARTC1LV1187B9A4858|1972| 301.40036|\n",
      "|SOKTJDS12AF72A25E5|Drown In My Own T...|ARA23XO1187B9AF18F|   0|   192.522|\n",
      "|SOYVBGZ12A6D4F92A8|Piano Sonata No. ...|ARLRWBW1242077EB29|   0| 221.70077|\n",
      "|SOGXFIF12A58A78CC4|Hanging On (Mediu...|AR5LZJD1187FB4C5E5|   0| 204.06812|\n",
      "|SOQAUGD12A58A7A92D|The Gold (Dubmati...|ARV3PXE1187B98E680|2008| 289.01832|\n",
      "|SOEHWGF12A6D4F8B2B|Hips Don't Lie (f...|AR6PJ8R1187FB5AD70|   0| 217.36444|\n",
      "|SOYQDUJ12A8C13F773|Shine On (Acousti...|ARWDPT81187B99C656|   0| 173.63546|\n",
      "|SOBBUGU12A8C13E95D|Setting Fire to S...|ARMAC4T1187FB3FA4C|2004| 207.77751|\n",
      "|SOEKAZG12AB018837E|I'll Slap Your Fa...|ARSVTNL1187B992A91|2001| 129.85424|\n",
      "|SOSIJKW12A8C1330E3|A God In An Alcov...|ARKIQCZ1187B9A7C7C|   0| 248.65914|\n",
      "|SOXCWTT12AC9075756| The Vitalized Shell|ARZEWUR1187FB53DC8|2010| 240.74404|\n",
      "|SOAXZZG12A6D4FA49D|Make A Move (2006...|ARZ5VKP1187FB3BB2F|   0| 227.60444|\n",
      "|SOSYVIZ12A8C141964|The Last Word (Am...|ARV2V751187FB4330F|2000| 256.80934|\n",
      "|SODBHKO12A58A77F36|Fingers Of Love (...|ARKGS2Z1187FB494B5|   0| 335.93424|\n",
      "|SONYPOM12A8C13B2D7|I Think My Wife I...|ARDNS031187B9924F0|2005| 186.48771|\n",
      "|SOFKLRD12A58A7C947|Funny In My Mind ...|ARS927Z1187B9ACA29|2002| 284.44689|\n",
      "|SOLGAPB12A8C13EA19|Flight Of The Boo...|ARUG14R1187FB3E2E8|2002| 258.06322|\n",
      "+------------------+--------------------+------------------+----+----------+\n",
      "only showing top 20 rows\n",
      "\n"
     ]
    }
   ],
   "source": [
    "song_table.show()"
   ]
  },
  {
   "cell_type": "code",
   "execution_count": 48,
   "metadata": {},
   "outputs": [],
   "source": [
    "output_data = \"s3a://dend-project-datalake\""
   ]
  },
  {
   "cell_type": "code",
   "execution_count": null,
   "metadata": {},
   "outputs": [],
   "source": [
    "song_table.write.partitionBy('year', 'artist_id').parquet(os.path.join(output_data, 'songs'), 'overwrite')"
   ]
  },
  {
   "cell_type": "code",
   "execution_count": null,
   "metadata": {},
   "outputs": [],
   "source": [
    "print('Artist table: ')\n",
    "artist_table = song_df.select(artist_id, artist_name, artist_location, artist_longitude, artist_latitude)\n",
    "print(artist_table.toPandas())"
   ]
  },
  {
   "cell_type": "code",
   "execution_count": 18,
   "metadata": {},
   "outputs": [],
   "source": [
    "artist_df_table = artist_table.createOrReplaceTempView(\"artist_df_table\")"
   ]
  },
  {
   "cell_type": "code",
   "execution_count": 19,
   "metadata": {},
   "outputs": [],
   "source": [
    "#create sql query to \n",
    "artist_table = spark.sql(\n",
    "                        \"\"\"SELECT DISTINCT artist_id, artist_name, artist_location, artist_longitude, artist_latitude\n",
    "                        FROM artist_df_table \n",
    "                        \"\"\"\n",
    "                      )"
   ]
  },
  {
   "cell_type": "code",
   "execution_count": 20,
   "metadata": {},
   "outputs": [
    {
     "name": "stdout",
     "output_type": "stream",
     "text": [
      "+------------------+--------------------+-----------------+----------------+---------------+\n",
      "|         artist_id|         artist_name|  artist_location|artist_longitude|artist_latitude|\n",
      "+------------------+--------------------+-----------------+----------------+---------------+\n",
      "|ARMJAGH1187FB546F3|        The Box Tops|      Memphis, TN|       -90.04892|       35.14968|\n",
      "|ARKCTSM11F4C83C839|     Igor Stravinsky|                 |            null|           null|\n",
      "|AR8YYNB1187B9A4BB3|       Assemblage 23|                 |            null|           null|\n",
      "|ARDDQKN1187FB50651|              Rednex|                 |            null|           null|\n",
      "|AR2L9A61187B9ADDBC|     Tangerine Dream|  Berlin, Germany|        13.37698|       52.51607|\n",
      "|AR54HGU1187FB5ACDE|          Girugämesh|                 |            null|           null|\n",
      "|ARSZ7L31187FB4E610|           Devotchka|       Denver, CO|      -104.99226|       39.74001|\n",
      "|ARH5D6D1187FB4C572|            Karunesh|  California - SF|      -122.42005|       37.77916|\n",
      "|AR1H1GY1187B991F17|Tasavallan Presid...|                 |            null|           null|\n",
      "|AR16XZ11187B9A97F0|       Blue Mountain|                 |            null|           null|\n",
      "|ARYAUMZ1187B9A2A40|      Spandau Ballet|       London, UK|        -0.12714|       51.50632|\n",
      "|ARMG6K31187FB55677|   Deekline & Wizard|                 |            null|           null|\n",
      "|ARRU15I1187B9A2E35|               Lorie|       Sony Music|            null|           null|\n",
      "|AR4RY4E1187B9912E5|          Wax Poetic|         New York|            null|           null|\n",
      "|ARANOZN1187B9B373E|         Descendents|  Los Angeles, CA|            null|           null|\n",
      "|ARDHKG01187FB4CBDE|          Yo Majesty|        Tampa, FL|       -82.45927|       27.94653|\n",
      "|ARUUV9X1187B98A4F3|     Jessica Andrews|                 |            null|           null|\n",
      "|ARJEOGL1187B98E9D4|                Klee| Cologne, Germany|            null|           null|\n",
      "|ARJNIUY12298900C91|        Adelitas Way|                 |            null|           null|\n",
      "|AR73AIO1187B9AD57B|   Western Addiction|San Francisco, CA|      -122.42005|       37.77916|\n",
      "+------------------+--------------------+-----------------+----------------+---------------+\n",
      "only showing top 20 rows\n",
      "\n"
     ]
    }
   ],
   "source": [
    "artist_table.show()"
   ]
  },
  {
   "cell_type": "code",
   "execution_count": 23,
   "metadata": {},
   "outputs": [],
   "source": [
    "artist_table.write.parquet(os.path.join(output_data, 'artists'), 'overwrite')"
   ]
  },
  {
   "cell_type": "code",
   "execution_count": null,
   "metadata": {},
   "outputs": [],
   "source": [
    "log_data = os.path.join(input_data, \"log_data/*/*/*.json\")"
   ]
  },
  {
   "cell_type": "code",
   "execution_count": 7,
   "metadata": {},
   "outputs": [],
   "source": [
    "log_df = spark.read.json(log_data)"
   ]
  },
  {
   "cell_type": "code",
   "execution_count": 8,
   "metadata": {},
   "outputs": [
    {
     "name": "stdout",
     "output_type": "stream",
     "text": [
      "root\n",
      " |-- artist: string (nullable = true)\n",
      " |-- auth: string (nullable = true)\n",
      " |-- firstName: string (nullable = true)\n",
      " |-- gender: string (nullable = true)\n",
      " |-- itemInSession: long (nullable = true)\n",
      " |-- lastName: string (nullable = true)\n",
      " |-- length: double (nullable = true)\n",
      " |-- level: string (nullable = true)\n",
      " |-- location: string (nullable = true)\n",
      " |-- method: string (nullable = true)\n",
      " |-- page: string (nullable = true)\n",
      " |-- registration: double (nullable = true)\n",
      " |-- sessionId: long (nullable = true)\n",
      " |-- song: string (nullable = true)\n",
      " |-- status: long (nullable = true)\n",
      " |-- ts: long (nullable = true)\n",
      " |-- userAgent: string (nullable = true)\n",
      " |-- userId: string (nullable = true)\n",
      "\n"
     ]
    }
   ],
   "source": [
    "log_df.printSchema()"
   ]
  },
  {
   "cell_type": "code",
   "execution_count": 9,
   "metadata": {},
   "outputs": [
    {
     "data": {
      "text/plain": [
       "8056"
      ]
     },
     "execution_count": 9,
     "metadata": {},
     "output_type": "execute_result"
    }
   ],
   "source": [
    "log_df.count()"
   ]
  },
  {
   "cell_type": "code",
   "execution_count": 10,
   "metadata": {},
   "outputs": [],
   "source": [
    "artist= 'artist'\n",
    "auth= 'auth'\n",
    "firstName= 'firstName'\n",
    "gender= 'gender'\n",
    "itemInSession= 'itemInSession'\n",
    "lastName= 'lastName'\n",
    "length= 'length'\n",
    "level= 'level'\n",
    "location= 'location'\n",
    "method= 'method'\n",
    "page= 'page'\n",
    "registration= 'registration'\n",
    "sessionId= 'sessionId'\n",
    "song= 'song'\n",
    "status= 'status'\n",
    "ts= 'ts'\n",
    "userAgent= 'userAgent'\n",
    "userId= 'userId'\n",
    "timestamp='timestamp'\n",
    "start_time='start_time'\n",
    "hour = 'hour'\n",
    "day='day'\n",
    "week='week'\n",
    "month='month'\n",
    "year='year'\n",
    "weekday='weekday'"
   ]
  },
  {
   "cell_type": "code",
   "execution_count": 11,
   "metadata": {},
   "outputs": [
    {
     "name": "stdout",
     "output_type": "stream",
     "text": [
      "Users table: \n",
      "  firstName lastName gender level userId\n",
      "0      Ryan    Smith      M  free     26\n",
      "1      Ryan    Smith      M  free     26\n",
      "2      Ryan    Smith      M  free     26\n",
      "3     Wyatt    Scott      M  free      9\n",
      "4    Austin  Rosales      M  free     12\n"
     ]
    }
   ],
   "source": [
    "print('Users table: ')\n",
    "users_table = log_df.select(firstName, lastName, gender, level, userId)\n",
    "print(users_table.limit(5).toPandas())"
   ]
  },
  {
   "cell_type": "code",
   "execution_count": 12,
   "metadata": {},
   "outputs": [],
   "source": [
    "#create the users temp_view \n",
    "users_df_table = users_table.createOrReplaceTempView(\"users_df_table\")"
   ]
  },
  {
   "cell_type": "code",
   "execution_count": 13,
   "metadata": {},
   "outputs": [],
   "source": [
    "#create sql query to \n",
    "users_table = spark.sql(\n",
    "                        \"\"\"SELECT DISTINCT firstName, lastName, gender, level, userId\n",
    "                        FROM users_df_table \n",
    "                        \"\"\"\n",
    "                      )"
   ]
  },
  {
   "cell_type": "code",
   "execution_count": 53,
   "metadata": {},
   "outputs": [
    {
     "name": "stdout",
     "output_type": "stream",
     "text": [
      "+---------+--------+------+-----+------+\n",
      "|firstName|lastName|gender|level|userId|\n",
      "+---------+--------+------+-----+------+\n",
      "|     Lily|  Cooper|     F| free|    59|\n",
      "|     Ryan|   Smith|     M| free|    26|\n",
      "|  Shakira|    Hunt|     F| free|    84|\n",
      "|  Kynnedi| Sanchez|     F| free|    89|\n",
      "|   Jordan|   Hicks|     F| free|    37|\n",
      "|   Martin| Johnson|     M| free|    55|\n",
      "|    Wyatt|   Scott|     M| free|     9|\n",
      "|   Jaleah|   Hayes|     F| paid|    70|\n",
      "|   Cienna| Freeman|     F| free|    56|\n",
      "|   Hayden|   Brock|     F| paid|    72|\n",
      "|     null|    null|  null| free|      |\n",
      "|  Jizelle|Benjamin|     F| free|     2|\n",
      "|     Lily|   Burns|     F| free|    32|\n",
      "|   Sylvie|    Cruz|     F| free|    10|\n",
      "|     Kate| Harrell|     F| paid|    97|\n",
      "|  Matthew|   Jones|     M| paid|    36|\n",
      "|     Sara| Johnson|     F| paid|    95|\n",
      "|   Austin| Rosales|     M| free|    12|\n",
      "|Katherine|     Gay|     F| free|    57|\n",
      "|    Tegan|  Levine|     F| paid|    80|\n",
      "+---------+--------+------+-----+------+\n",
      "only showing top 20 rows\n",
      "\n"
     ]
    }
   ],
   "source": [
    "users_table.show()"
   ]
  },
  {
   "cell_type": "code",
   "execution_count": 56,
   "metadata": {},
   "outputs": [],
   "source": [
    "users_table.write.parquet(os.path.join(output_data, 'users'), 'overwrite')"
   ]
  },
  {
   "cell_type": "code",
   "execution_count": 14,
   "metadata": {},
   "outputs": [],
   "source": [
    "#create timestamp column from original timestamp column\n",
    "get_timestamp = udf(lambda x: datetime.datetime.fromtimestamp(x / 1000), TimestampType())"
   ]
  },
  {
   "cell_type": "code",
   "execution_count": 15,
   "metadata": {},
   "outputs": [],
   "source": [
    "log_df = log_df.withColumn(\"timestamp\", get_timestamp(log_df.ts))"
   ]
  },
  {
   "cell_type": "code",
   "execution_count": 16,
   "metadata": {},
   "outputs": [
    {
     "name": "stdout",
     "output_type": "stream",
     "text": [
      "root\n",
      " |-- artist: string (nullable = true)\n",
      " |-- auth: string (nullable = true)\n",
      " |-- firstName: string (nullable = true)\n",
      " |-- gender: string (nullable = true)\n",
      " |-- itemInSession: long (nullable = true)\n",
      " |-- lastName: string (nullable = true)\n",
      " |-- length: double (nullable = true)\n",
      " |-- level: string (nullable = true)\n",
      " |-- location: string (nullable = true)\n",
      " |-- method: string (nullable = true)\n",
      " |-- page: string (nullable = true)\n",
      " |-- registration: double (nullable = true)\n",
      " |-- sessionId: long (nullable = true)\n",
      " |-- song: string (nullable = true)\n",
      " |-- status: long (nullable = true)\n",
      " |-- ts: long (nullable = true)\n",
      " |-- userAgent: string (nullable = true)\n",
      " |-- userId: string (nullable = true)\n",
      " |-- timestamp: timestamp (nullable = true)\n",
      "\n"
     ]
    }
   ],
   "source": [
    "log_df.printSchema()"
   ]
  },
  {
   "cell_type": "code",
   "execution_count": 17,
   "metadata": {},
   "outputs": [],
   "source": [
    "# create datetime column from original timestamp colum\n",
    "get_datetime = udf(lambda x: F.to_date(x), TimestampType())"
   ]
  },
  {
   "cell_type": "code",
   "execution_count": 18,
   "metadata": {},
   "outputs": [],
   "source": [
    "log_df = log_df.withColumn(\"start_time\", get_timestamp(log_df.ts))"
   ]
  },
  {
   "cell_type": "code",
   "execution_count": 19,
   "metadata": {},
   "outputs": [
    {
     "name": "stdout",
     "output_type": "stream",
     "text": [
      "root\n",
      " |-- artist: string (nullable = true)\n",
      " |-- auth: string (nullable = true)\n",
      " |-- firstName: string (nullable = true)\n",
      " |-- gender: string (nullable = true)\n",
      " |-- itemInSession: long (nullable = true)\n",
      " |-- lastName: string (nullable = true)\n",
      " |-- length: double (nullable = true)\n",
      " |-- level: string (nullable = true)\n",
      " |-- location: string (nullable = true)\n",
      " |-- method: string (nullable = true)\n",
      " |-- page: string (nullable = true)\n",
      " |-- registration: double (nullable = true)\n",
      " |-- sessionId: long (nullable = true)\n",
      " |-- song: string (nullable = true)\n",
      " |-- status: long (nullable = true)\n",
      " |-- ts: long (nullable = true)\n",
      " |-- userAgent: string (nullable = true)\n",
      " |-- userId: string (nullable = true)\n",
      " |-- timestamp: timestamp (nullable = true)\n",
      " |-- start_time: timestamp (nullable = true)\n",
      "\n"
     ]
    }
   ],
   "source": [
    "log_df.printSchema()"
   ]
  },
  {
   "cell_type": "code",
   "execution_count": 20,
   "metadata": {},
   "outputs": [],
   "source": [
    "# extract columns to create time table\n",
    "log_df = log_df.withColumn(\"hour\", F.hour(\"timestamp\"))\n",
    "log_df = log_df.withColumn(\"day\", F.dayofweek(\"timestamp\"))\n",
    "log_df = log_df.withColumn(\"week\", F.weekofyear(\"timestamp\"))\n",
    "log_df = log_df.withColumn(\"month\", F.month(\"timestamp\"))\n",
    "log_df = log_df.withColumn(\"year\", F.year(\"timestamp\"))\n",
    "log_df = log_df.withColumn(\"weekday\", F.dayofweek(\"timestamp\"))"
   ]
  },
  {
   "cell_type": "code",
   "execution_count": 21,
   "metadata": {},
   "outputs": [
    {
     "name": "stdout",
     "output_type": "stream",
     "text": [
      "root\n",
      " |-- artist: string (nullable = true)\n",
      " |-- auth: string (nullable = true)\n",
      " |-- firstName: string (nullable = true)\n",
      " |-- gender: string (nullable = true)\n",
      " |-- itemInSession: long (nullable = true)\n",
      " |-- lastName: string (nullable = true)\n",
      " |-- length: double (nullable = true)\n",
      " |-- level: string (nullable = true)\n",
      " |-- location: string (nullable = true)\n",
      " |-- method: string (nullable = true)\n",
      " |-- page: string (nullable = true)\n",
      " |-- registration: double (nullable = true)\n",
      " |-- sessionId: long (nullable = true)\n",
      " |-- song: string (nullable = true)\n",
      " |-- status: long (nullable = true)\n",
      " |-- ts: long (nullable = true)\n",
      " |-- userAgent: string (nullable = true)\n",
      " |-- userId: string (nullable = true)\n",
      " |-- timestamp: timestamp (nullable = true)\n",
      " |-- start_time: timestamp (nullable = true)\n",
      " |-- hour: integer (nullable = true)\n",
      " |-- day: integer (nullable = true)\n",
      " |-- week: integer (nullable = true)\n",
      " |-- month: integer (nullable = true)\n",
      " |-- year: integer (nullable = true)\n",
      " |-- weekday: integer (nullable = true)\n",
      "\n"
     ]
    }
   ],
   "source": [
    "log_df.printSchema()"
   ]
  },
  {
   "cell_type": "code",
   "execution_count": 22,
   "metadata": {},
   "outputs": [],
   "source": [
    "artist= 'artist'\n",
    "auth= 'auth'\n",
    "firstName= 'firstName'\n",
    "gender= 'gender'\n",
    "itemInSession= 'itemInSession'\n",
    "lastName= 'lastName'\n",
    "length= 'length'\n",
    "level= 'level'\n",
    "location= 'location'\n",
    "method= 'method'\n",
    "page= 'page'\n",
    "registration= 'registration'\n",
    "sessionId= 'sessionId'\n",
    "song= 'song'\n",
    "status= 'status'\n",
    "ts= 'ts'\n",
    "userAgent= 'userAgent'\n",
    "userId= 'userId'\n",
    "timestamp='timestamp'\n",
    "start_time='start_time'\n",
    "hour = 'hour'\n",
    "day='day'\n",
    "week='week'\n",
    "month='month'\n",
    "year='year'\n",
    "weekday='weekday'\n",
    "timestamp='timestamp'\n",
    "start_time = 'start_time'\n",
    "hour = 'hour'\n",
    "day = 'day'\n",
    "week = 'week'\n",
    "month = 'month'\n",
    "year = 'year'\n",
    "weekday = 'weekday'"
   ]
  },
  {
   "cell_type": "code",
   "execution_count": 23,
   "metadata": {},
   "outputs": [],
   "source": [
    "time_table = log_df.select(start_time, hour, day, week, month, year, weekday)"
   ]
  },
  {
   "cell_type": "code",
   "execution_count": 24,
   "metadata": {},
   "outputs": [
    {
     "name": "stdout",
     "output_type": "stream",
     "text": [
      "+--------------------+----+---+----+-----+----+-------+\n",
      "|          start_time|hour|day|week|month|year|weekday|\n",
      "+--------------------+----+---+----+-----+----+-------+\n",
      "|2018-11-15 00:30:...|   0|  5|  46|   11|2018|      5|\n",
      "|2018-11-15 00:41:...|   0|  5|  46|   11|2018|      5|\n",
      "|2018-11-15 00:45:...|   0|  5|  46|   11|2018|      5|\n",
      "|2018-11-15 01:57:...|   1|  5|  46|   11|2018|      5|\n",
      "|2018-11-15 03:29:...|   3|  5|  46|   11|2018|      5|\n",
      "|2018-11-15 03:44:...|   3|  5|  46|   11|2018|      5|\n",
      "|2018-11-15 03:44:...|   3|  5|  46|   11|2018|      5|\n",
      "|2018-11-15 05:34:...|   5|  5|  46|   11|2018|      5|\n",
      "|2018-11-15 05:37:...|   5|  5|  46|   11|2018|      5|\n",
      "|2018-11-15 05:48:...|   5|  5|  46|   11|2018|      5|\n",
      "|2018-11-15 05:53:...|   5|  5|  46|   11|2018|      5|\n",
      "|2018-11-15 05:55:...|   5|  5|  46|   11|2018|      5|\n",
      "|2018-11-15 06:01:...|   6|  5|  46|   11|2018|      5|\n",
      "|2018-11-15 06:01:...|   6|  5|  46|   11|2018|      5|\n",
      "|2018-11-15 06:07:...|   6|  5|  46|   11|2018|      5|\n",
      "|2018-11-15 06:10:...|   6|  5|  46|   11|2018|      5|\n",
      "|2018-11-15 06:13:...|   6|  5|  46|   11|2018|      5|\n",
      "|2018-11-15 06:14:...|   6|  5|  46|   11|2018|      5|\n",
      "|2018-11-15 06:17:...|   6|  5|  46|   11|2018|      5|\n",
      "|2018-11-15 06:18:...|   6|  5|  46|   11|2018|      5|\n",
      "+--------------------+----+---+----+-----+----+-------+\n",
      "only showing top 20 rows\n",
      "\n"
     ]
    }
   ],
   "source": [
    "time_table.show()"
   ]
  },
  {
   "cell_type": "code",
   "execution_count": 25,
   "metadata": {},
   "outputs": [
    {
     "data": {
      "text/plain": [
       "8056"
      ]
     },
     "execution_count": 25,
     "metadata": {},
     "output_type": "execute_result"
    }
   ],
   "source": [
    "time_table.count()"
   ]
  },
  {
   "cell_type": "code",
   "execution_count": null,
   "metadata": {},
   "outputs": [],
   "source": []
  },
  {
   "cell_type": "code",
   "execution_count": 26,
   "metadata": {},
   "outputs": [],
   "source": [
    "#create temp view\n",
    "time_table.createOrReplaceTempView(\"time_table_df\")"
   ]
  },
  {
   "cell_type": "code",
   "execution_count": 27,
   "metadata": {},
   "outputs": [],
   "source": [
    "#create sql query to partition on year and artist_id\n",
    "time_table = spark.sql(\n",
    "        \"\"\"SELECT DISTINCT start_time, hour, day, week, month, year, weekday\n",
    "           FROM time_table_df \n",
    "        \"\"\")"
   ]
  },
  {
   "cell_type": "code",
   "execution_count": 30,
   "metadata": {},
   "outputs": [
    {
     "data": {
      "text/plain": [
       "8023"
      ]
     },
     "execution_count": 30,
     "metadata": {},
     "output_type": "execute_result"
    }
   ],
   "source": [
    "time_table.count()"
   ]
  },
  {
   "cell_type": "code",
   "execution_count": 118,
   "metadata": {},
   "outputs": [],
   "source": [
    "time_table.write.partitionBy('year', 'month').parquet(os.path.join(output_data, 'time'), 'overwrite')"
   ]
  },
  {
   "cell_type": "code",
   "execution_count": 39,
   "metadata": {},
   "outputs": [],
   "source": [
    "log_df_table=log_df.createOrReplaceTempView(\"log_df_table\")"
   ]
  },
  {
   "cell_type": "code",
   "execution_count": 40,
   "metadata": {},
   "outputs": [],
   "source": [
    "song_df_table=song_df.createOrReplaceTempView(\"song_df_table\")"
   ]
  },
  {
   "cell_type": "code",
   "execution_count": 36,
   "metadata": {},
   "outputs": [],
   "source": []
  },
  {
   "cell_type": "code",
   "execution_count": 50,
   "metadata": {},
   "outputs": [],
   "source": [
    "songplays_table = spark.sql(\n",
    "        \"\"\"SELECT DISTINCT log_df_table.start_time, log_df_table.userId, log_df_table.level, log_df_table.sessionId, log_df_table.location,log_df_table.userAgent, \n",
    "        song_df_table.song_id, song_df_table.artist_id,time_table_df.year,time_table_df.month\n",
    "        FROM log_df_table \n",
    "        INNER JOIN song_df_table \n",
    "        ON song_df_table.artist_name = log_df_table.artist \n",
    "        INNER JOIN time_table_df\n",
    "        ON time_table_df.start_time = log_df_table.start_time\n",
    "        \"\"\")"
   ]
  },
  {
   "cell_type": "code",
   "execution_count": 52,
   "metadata": {},
   "outputs": [
    {
     "name": "stdout",
     "output_type": "stream",
     "text": [
      "+--------------------+------+-----+---------+--------------------+--------------------+------------------+------------------+----+-----+\n",
      "|          start_time|userId|level|sessionId|            location|           userAgent|           song_id|         artist_id|year|month|\n",
      "+--------------------+------+-----+---------+--------------------+--------------------+------------------+------------------+----+-----+\n",
      "|2018-11-14 12:18:...|    29| paid|      559|Atlanta-Sandy Spr...|\"Mozilla/5.0 (Mac...|SOFEAMD12AB017F1C2|AR8W8P31187B9A4063|2018|   11|\n",
      "|2018-11-13 14:11:...|    29| paid|      486|Atlanta-Sandy Spr...|\"Mozilla/5.0 (Mac...|SOLGHDZ12AB0183B11|ARF2EHS1187B994F4E|2018|   11|\n",
      "|2018-11-21 14:52:...|    26| free|      811|San Jose-Sunnyval...|\"Mozilla/5.0 (X11...|SOLFPLO12AB0189A69|ARCBRSD11C8A42B798|2018|   11|\n",
      "|2018-11-20 03:02:...|    85| paid|      658|       Red Bluff, CA|\"Mozilla/5.0 (Mac...|SOLJCCO12A6701F987|ARR6LWJ1187FB44C8B|2018|   11|\n",
      "|2018-11-27 17:39:...|    36| paid|      957|Janesville-Beloit...|\"Mozilla/5.0 (Win...|SOYQDUJ12A8C13F773|ARWDPT81187B99C656|2018|   11|\n",
      "|2018-11-08 07:22:...|    80| paid|      342|Portland-South Po...|\"Mozilla/5.0 (Mac...|SOJEVZW12A8C133988|ARYO9BU1187B9ADA88|2018|   11|\n",
      "|2018-11-15 07:47:...|    49| paid|      606|San Francisco-Oak...|Mozilla/5.0 (Wind...|SOSKUNI12AB0187F12|ARZWK2R1187B98F09F|2018|   11|\n",
      "|2018-11-05 03:04:...|    52| free|      226|Houston-The Woodl...|Mozilla/5.0 (Wind...|SODOLVO12B0B80B2F4|AR6XPWV1187B9ADAEB|2018|   11|\n",
      "|2018-11-15 10:20:...|    30| paid|      324|San Jose-Sunnyval...|Mozilla/5.0 (Wind...|SOFVOQL12A6D4F7456|ARPN0Y61187B9ABAA0|2018|   11|\n",
      "|2018-11-05 17:11:...|    73| paid|      255|Tampa-St. Petersb...|\"Mozilla/5.0 (Mac...|SOFWVCZ12A8C1462BF|ARNSMZT1187B98E003|2018|   11|\n",
      "|2018-11-08 09:11:...|    80| paid|      342|Portland-South Po...|\"Mozilla/5.0 (Mac...|SODGPPX12A8C133C55|ARUPWVD1187FB4DA36|2018|   11|\n",
      "|2018-11-06 23:26:...|    80| free|      307|Portland-South Po...|\"Mozilla/5.0 (Mac...|SOOVJEF12A67ADE8D7|ARB8Q2P1187FB4D05D|2018|   11|\n",
      "|2018-11-30 03:55:...|    24| paid|     1051|Lake Havasu City-...|\"Mozilla/5.0 (Win...|SOAADAD12A8C13D5B0|ARQTC851187B9B03AF|2018|   11|\n",
      "|2018-11-15 22:56:...|    44| paid|      619|Waterloo-Cedar Fa...|Mozilla/5.0 (Maci...|SOSKUNI12AB0187F12|ARZWK2R1187B98F09F|2018|   11|\n",
      "|2018-11-27 17:22:...|    36| paid|      957|Janesville-Beloit...|\"Mozilla/5.0 (Win...|SOMZZON12A6701D3B9|ARKUI581187B9A6856|2018|   11|\n",
      "|2018-11-21 06:25:...|    97| paid|      797|Lansing-East Lans...|\"Mozilla/5.0 (X11...|SOFAMRP12AF72A069E|ARMI4NV1187B99D55D|2018|   11|\n",
      "|2018-11-14 11:00:...|    15| paid|      557|Chicago-Napervill...|\"Mozilla/5.0 (X11...|SOWZYPQ12AAF3B1F3D|ARZJ4MI1187B9AF5AF|2018|   11|\n",
      "|2018-11-13 09:58:...|    44| paid|      474|Waterloo-Cedar Fa...|Mozilla/5.0 (Maci...|SOJEVZW12A8C133988|ARYO9BU1187B9ADA88|2018|   11|\n",
      "|2018-11-30 12:57:...|    49| paid|     1096|San Francisco-Oak...|Mozilla/5.0 (Wind...|SODOLVO12B0B80B2F4|AR6XPWV1187B9ADAEB|2018|   11|\n",
      "|2018-11-16 20:41:...|    49| paid|      648|San Francisco-Oak...|Mozilla/5.0 (Wind...|SOXLGTI12A8C13C08B|ARGQJWL1187FB3CE9E|2018|   11|\n",
      "+--------------------+------+-----+---------+--------------------+--------------------+------------------+------------------+----+-----+\n",
      "only showing top 20 rows\n",
      "\n"
     ]
    }
   ],
   "source": [
    "songplays_table.show()"
   ]
  },
  {
   "cell_type": "code",
   "execution_count": 53,
   "metadata": {},
   "outputs": [],
   "source": [
    "songplays_table.write.partitionBy('year', 'month').parquet(os.path.join(output_data, 'songplays'), 'overwrite')"
   ]
  }
 ],
 "metadata": {
  "kernelspec": {
   "display_name": "Python 3",
   "language": "python",
   "name": "python3"
  },
  "language_info": {
   "codemirror_mode": {
    "name": "ipython",
    "version": 3
   },
   "file_extension": ".py",
   "mimetype": "text/x-python",
   "name": "python",
   "nbconvert_exporter": "python",
   "pygments_lexer": "ipython3",
   "version": "3.6.3"
  }
 },
 "nbformat": 4,
 "nbformat_minor": 2
}
